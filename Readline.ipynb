{
 "cells": [
  {
   "cell_type": "code",
   "execution_count": 1,
   "metadata": {},
   "outputs": [],
   "source": [
    "import numpy as np\n",
    "import pandas as pd\n",
    "from os import listdir\n",
    "df = (\"PU_Time\",\"DO_Time\",\"Trip_Distance\",\"Rate_Code\",\"PU_Lon\",\"PU_Lat\",\"DO_Lon\",\"DO_Lat\",\"Fare_Amt\",\"Extra\",\"Tip_Amt\",\"PULocationID\",\"DOLocationID\")\n",
    "\n",
    "PU_Time = ('Pickup_date','Pickup_DateTime','pickup_datetime','lpep_pickup_datetime','Trip_Pickup_DateTime','tpep_pickup_datetime')\n",
    "DO_Time = ('DropOff_datetime','dropoff_datetime','Lpep_dropoff_datetime','lpep_dropoff_datetime','Trip_Dropoff_DateTime','tpep_dropoff_datetime')\n",
    "Trip_Distance = ('Trip_distance','trip_distance','Trip_Distance')\n",
    "Rate_Code = ('rate_code','RateCodeID','Rate_Code','RatecodeID')\n",
    "PU_Lon = ('Pickup_longitude','Start_Lon','pickup_longitude')\n",
    "\n",
    "PU_Lat = ('Pickup_latitude','Start_Lat','pickup_latitude')\n",
    "DO_Lon = ('Dropoff_longitude','End_Lon','dropoff_longitude')\n",
    "DO_Lat = ('Dropoff_latitude','End_Lat','dropoff_latitude')\n",
    "Fare_Amt = ('Fare_amount','fare_amount','Fare_Amt')\n",
    "Extra = ('Extra','extra','surcharge')\n",
    "\n",
    "Tip_Amt = ('Tip_amount','tip_amount','Tip_Amt')\n",
    "PULocationID = ('PULocationID')\n",
    "DOLocationID = ('DOLocationID')\n",
    "\n",
    "cols = pd.Series([PU_Time,DO_Time,Trip_Distance,Rate_Code,PU_Lon,PU_Lat,DO_Lon,DO_Lat,Fare_Amt,Extra,Tip_Amt,PULocationID,DOLocationID])"
   ]
  },
  {
   "cell_type": "code",
   "execution_count": 13,
   "metadata": {},
   "outputs": [],
   "source": [
    "def read_write_buffer(readpath,writepath):\n",
    "    rf = open(readpath,'r')\n",
    "    col = rf.readline()\n",
    "    col = col.split(',')\n",
    "    col[-1]=col[-1][:-1]\n",
    "    col_num=[]\n",
    "    head=''\n",
    "    wf = open(writepath, \"w\")\n",
    "    for i in range(len(col)):\n",
    "        for j in range(len(cols)):\n",
    "            if col[i] in cols[j]:\n",
    "                head += df[j]+','\n",
    "                col_num += [i]\n",
    "    wf.write(head[:-1]+'\\n')\n",
    "    try:\n",
    "        row_cnt=0\n",
    "        while True:\n",
    "            line = rf.readline()\n",
    "            if line:\n",
    "                row = line.split(',')\n",
    "                if len(row)==len(col):\n",
    "                    new_row=''\n",
    "                    for i in col_num:\n",
    "                        new_row += row[i]+','\n",
    "                    wf.write(new_row[:-1]+'\\n')\n",
    "                    row_cnt+=1\n",
    "            else:\n",
    "                print('cols:'+str(len(col_num))+'  rows:'+str(row_cnt))\n",
    "                break\n",
    "    finally:\n",
    "        rf.close()\n",
    "        wf.close()"
   ]
  },
  {
   "cell_type": "code",
   "execution_count": 4,
   "metadata": {},
   "outputs": [
    {
     "name": "stdout",
     "output_type": "stream",
     "text": [
      "cols:11  rows:170896055\n",
      "cols:11  rows:168994353\n",
      "cols:11  rows:135335924\n",
      "cols:11  rows:167331308\n",
      "cols:11  rows:173179759\n",
      "cols:11  rows:165114361\n",
      "cols:11  rows:77080575\n",
      "cols:11  rows:11562783\n",
      "cols:11  rows:11130304\n",
      "cols:11  rows:11225063\n",
      "cols:11  rows:12315488\n",
      "cols:11  rows:11312676\n",
      "cols:11  rows:11460573\n",
      "cols:12  rows:131165043\n",
      "cols:9  rows:113496874\n",
      "cols:9  rows:8759874\n",
      "cols:9  rows:8492076\n",
      "cols:9  rows:9430376\n",
      "cols:9  rows:9305515\n",
      "cols:9  rows:9224063\n",
      "cols:9  rows:8713831\n",
      "Wall time: 3h 22min 23s\n"
     ]
    }
   ],
   "source": [
    "%%time\n",
    "mypath = \"E:/New_York_Taxi/1-CSV/Yellow\" #your dir\n",
    "files = listdir(mypath)\n",
    "for i in files:    \n",
    "    fullpath = mypath+'/'+i\n",
    "    filename = mypath+'/'+'cleaned_'+i\n",
    "    read_write_buffer(fullpath,filename)"
   ]
  },
  {
   "cell_type": "code",
   "execution_count": 5,
   "metadata": {},
   "outputs": [
    {
     "name": "stdout",
     "output_type": "stream",
     "text": [
      "cols:11  rows:1210811\n",
      "cols:11  rows:15837001\n",
      "cols:11  rows:19233765\n",
      "cols:12  rows:16385532\n",
      "cols:9  rows:11740667\n",
      "cols:9  rows:793529\n",
      "cols:9  rows:769940\n",
      "cols:9  rows:837149\n",
      "cols:9  rows:800084\n",
      "cols:9  rows:797233\n",
      "cols:9  rows:739373\n",
      "Wall time: 8min 44s\n"
     ]
    }
   ],
   "source": [
    "%%time\n",
    "mypath = \"E:/New_York_Taxi/1-CSV/Green\" #your dir\n",
    "files = listdir(mypath)\n",
    "for i in files:\n",
    "    fullpath = mypath+'/'+i\n",
    "    filename = mypath+'/'+'cleaned_'+i\n",
    "    read_write_buffer(fullpath,filename)"
   ]
  },
  {
   "cell_type": "code",
   "execution_count": 12,
   "metadata": {},
   "outputs": [
    {
     "name": "stdout",
     "output_type": "stream",
     "text": [
      "['嚜燄endorID', 'tpep_pickup_datetime', 'tpep_dropoff_datetime', 'passenger_count', 'trip_distance', 'pickup_longitude', 'pickup_latitude', 'RatecodeID', 'store_and_fwd_flag', 'dropoff_longitude', 'dropoff_latitude', 'payment_type', 'fare_amount', 'extra', 'mta_tax', 'tip_amount', 'tolls_amount', 'improvement_surcharge', 'total_amount', 'PULocationID', 'DOLocationID']\n",
      "21\n"
     ]
    }
   ],
   "source": [
    "# wf = open(\"E:/New_York_Taxi/1-CSV/Yellow/2016_Yellow.csv\", \"r\")\n",
    "# a = wf.readline()\n",
    "# a = a.split(',')\n",
    "# a[-1]=a[-1][:-1]\n",
    "# b = wf.readline()\n",
    "# print(a)\n",
    "# print(len(b.split(',')))\n"
   ]
  }
 ],
 "metadata": {
  "kernelspec": {
   "display_name": "Python 3",
   "language": "python",
   "name": "python3"
  },
  "language_info": {
   "codemirror_mode": {
    "name": "ipython",
    "version": 3
   },
   "file_extension": ".py",
   "mimetype": "text/x-python",
   "name": "python",
   "nbconvert_exporter": "python",
   "pygments_lexer": "ipython3",
   "version": "3.6.5"
  }
 },
 "nbformat": 4,
 "nbformat_minor": 2
}
